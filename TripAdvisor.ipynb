{
 "cells": [
  {
   "cell_type": "code",
   "execution_count": 1,
   "metadata": {},
   "outputs": [],
   "source": [
    "import json\n",
    "from selenium import webdriver\n",
    "from selenium.webdriver.common.by import By\n",
    "from selenium.webdriver.support.ui import WebDriverWait\n",
    "from selenium.webdriver.support import expected_conditions as EC\n",
    "from selenium.webdriver.chrome.options import Options\n",
    "import time\n",
    "import re\n",
    "from tqdm.notebook import tqdm, trange\n",
    "from IPython.display import clear_output\n",
    "\n",
    "import numpy as np"
   ]
  },
  {
   "cell_type": "code",
   "execution_count": 36,
   "metadata": {},
   "outputs": [],
   "source": [
    "class TripAdvisorScrapper():\n",
    "    restaurants_data = {}\n",
    "    def __init__(self, city, show=False):\n",
    "        self.PATH = 'chromedriver.exe'\n",
    "        self.options = Options()\n",
    "        if not show:\n",
    "            self.options.add_argument(\"--headless\")\n",
    "        self.city = city\n",
    "        # List for storing links to restaurants data\n",
    "        self.restaurants_hrefs = []\n",
    "        # Dict for storing dicts with restaurants information\n",
    "        self.restaurants_data = []\n",
    "    \n",
    "    \n",
    "    def _verbose(message):\n",
    "        def decorator(func):\n",
    "            def wrapper(*args, **kwargs):\n",
    "                print(message)\n",
    "                clear_output(wait=True)\n",
    "                return func(*args, **kwargs) \n",
    "            return wrapper\n",
    "        return decorator\n",
    "\n",
    "\n",
    "    @_verbose(message = 'starting driver...')\n",
    "    def start_driver(self):\n",
    "        self.driver = webdriver.Chrome(options=self.options)\n",
    "        self.driver.set_window_size(600, 800)\n",
    "        \n",
    "        \n",
    "    @_verbose(message = 'opening TripAdvisor...')\n",
    "    def open_tripadvisor(self):\n",
    "        self.driver.get('https://www.tripadvisor.com/')\n",
    "        \n",
    "        \n",
    "    @_verbose(message = 'accepting cookies...')\n",
    "    def accept_cookies(self):\n",
    "        # id\n",
    "        button_accept = 'onetrust-accept-btn-handler'\n",
    "        WebDriverWait(self.driver, timeout=10).until(lambda d: d.find_element_by_id(button_accept))\n",
    "        self.driver.find_element_by_id(button_accept).click()\n",
    "        \n",
    "        \n",
    "    @_verbose(message = 'searching the city...')\n",
    "    def search_the_city(self, city):\n",
    "        # classes\n",
    "        search_field = \"[aria-label='Search']\"\n",
    "        \n",
    "\n",
    "        WebDriverWait(self.driver, timeout=3).until(lambda d: d.find_element(By.CSS_SELECTOR, search_field))\n",
    "        Krakow.driver.find_element(By.CSS_SELECTOR, search_field).click()\n",
    "        time.sleep(1.5)\n",
    "        element = Krakow.driver.find_element(By.CSS_SELECTOR, search_field)\n",
    "        element.send_keys('Krakow')\n",
    "        element.submit()\n",
    "    \n",
    "    \n",
    "    @_verbose(message = 'choosing the list of restaurants category...')\n",
    "    def filter_restaurants(self):\n",
    "        # CSS\n",
    "        restaurants_filter = '[data-tab-name=\"Restaurants\"]'\n",
    "        time.sleep(1.5)\n",
    "        WebDriverWait(self.driver, timeout=10).until(lambda d: d.find_element(By.CSS_SELECTOR, restaurants_filter))\n",
    "        self.driver.find_element(By.CSS_SELECTOR, restaurants_filter).click()\n",
    "        \n",
    "        # attempts = 0\n",
    "        # while True:\n",
    "        #     try:\n",
    "        #         WebDriverWait(self.driver, timeout=10).until(lambda d: d.find_element(By.CSS_SELECTOR, restaurans_filter))\n",
    "        #         restaurants_filter = self.driver.find_element(By.CSS_SELECTOR, restaurans_filter)\n",
    "        #         restaurants_filter.click()\n",
    "        #         break\n",
    "        #     except:\n",
    "        #             if attempts !=10:\n",
    "        #                 WebDriverWait(self.driver, timeout=10).until(lambda d: d.find_element_by_css_selector(\"[aria-label='Next']\"))\n",
    "        #                 time.sleep(3)\n",
    "        #                 self.driver.find_element_by_css_selector(\"[aria-label='Next']\").click()\n",
    "        #             else:\n",
    "        #                 raise RuntimeError('Cannot filter restaurants, FATAL')\n",
    "        #                 break\n",
    "                \n",
    "                \n",
    "    @_verbose(message = 'turning off filters...')                                              \n",
    "    def clear_filters(self):\n",
    "        try:\n",
    "            WebDriverWait(self.driver, timeout=10).until(lambda d: d.find_element(By.CLASS_NAME, '_3bGkSG3Z'))\n",
    "            self.driver.find_element(By.CLASS_NAME, '_3bGkSG3Z').click()\n",
    "        except:\n",
    "            pass\n",
    "    \n",
    "    \n",
    "    @_verbose(message = 'getting links to the restaurants pages...')\n",
    "    def get_restaurants_hrefs(self):\n",
    "        \n",
    "        def find_href_in_string(string):\n",
    "            return re.findall(r\"this, (.*), {type\", string )[0]\n",
    "        \n",
    "        # class\n",
    "        names = 'result-title'\n",
    "\n",
    "        WebDriverWait(self.driver, timeout=10, ).until(lambda d: d.find_element(By.CLASS_NAME, names))\n",
    "        return ['https://www.tripadvisor.com/'+ find_href_in_string(elem.get_attribute('onclick')) for elem in self.driver.find_elements(By.CLASS_NAME, names)]\n",
    "    \n",
    "    \n",
    "    @_verbose(message = 'going to the next page...')\n",
    "    def next_page(self):\n",
    "        self.driver.find_elements(By.CLASS_NAME, 'next')[0].click()\n",
    "        time.sleep(3)\n",
    "                       \n",
    "            \n",
    "    @_verbose(message = 'collecting hrefs from restaurant lists...')\n",
    "    def collect_hrefs(self, n_pages):\n",
    "        if n_pages == 'all':\n",
    "            n_pages = 9999\n",
    "        n = 0\n",
    "        pages=0\n",
    "        while pages!=n_pages:\n",
    "            while n!=40: # if links loaded\n",
    "                time.sleep(1)\n",
    "                hrefs_from_page = self.get_restaurants_hrefs()\n",
    "                if len(hrefs_from_page)!=0:\n",
    "                    \n",
    "                    break\n",
    "                else:\n",
    "                    n+=1\n",
    "            self.restaurants_hrefs = self.restaurants_hrefs + hrefs_from_page\n",
    "            try:\n",
    "                self.next_page()\n",
    "                pages +=1\n",
    "                print (f'collected {len(self.restaurants_hrefs)} links from {pages} pages')\n",
    "                clear_output(wait=True)\n",
    "            except:\n",
    "                break\n",
    "        \n",
    "    \n",
    "    @_verbose(message = 'collecting restaurant name...')\n",
    "    def collect_name(self, rest_data):\n",
    "        # class\n",
    "        name = 'fHibz'\n",
    "        # Make few attempts to be sure that page loaded correctly \n",
    "        attempts = 0\n",
    "        while True:\n",
    "            try:\n",
    "                WebDriverWait(self.driver, timeout=10).until(lambda d: self.driver.find_element(By.CLASS_NAME, name))\n",
    "                rest_data['Name'] = self.driver.find_element(By.CLASS_NAME, name).text\n",
    "                break\n",
    "            except:\n",
    "                if attempts !=2:\n",
    "                    self.driver.refresh()\n",
    "                    attempts +=1\n",
    "                else:\n",
    "                    rest_data['Name'] = None\n",
    "                    break\n",
    "                    \n",
    "    \n",
    "    @_verbose(message = 'collecting restaurant reviews count...')\n",
    "    def collect_reviews_count(self, rest_data):\n",
    "        # class \n",
    "        n_reviews = 'eBTWs'\n",
    "        ratings_filter = 'ui_tag_box'\n",
    "        n_ratings = 'row_num'\n",
    "        # Collecting data\n",
    "        try:\n",
    "            WebDriverWait(self.driver, timeout=2).until(lambda d: self.driver.find_element(By.CLASS_NAME, n_reviews))\n",
    "            rest_data['N_reviews'] = re.findall('\\d+', self.driver.find_element(By.CLASS_NAME, n_reviews).text)[0]\n",
    "        except:\n",
    "            rest_data['N_reviews'] = None   \n",
    "        # Turning off review filters\n",
    "        try:\n",
    "            if len(self.driver.find_elements(By.CLASS_NAME, ratings_filter)) > 1:\n",
    "                [i for i in self.driver.find_elements(By.CLASS_NAME, ratings_filter) if i.get_attribute('data-tracker') == 'English'][0].click()\n",
    "                time.sleep(1)\n",
    "        except: \n",
    "            pass\n",
    "        rest_data['Review_ratings'] = {}\n",
    "        # Collecting data\n",
    "        rev_names = ['Excellent', 'Very good', 'Average', 'Poor', 'Terrible'] # Reviews marks\n",
    "        try:\n",
    "            WebDriverWait(self.driver, timeout=2).until(lambda d: self.driver.find_element(By.CLASS_NAME, n_ratings))\n",
    "            rev_vals = [el.text for el in self.driver.find_elements(By.CLASS_NAME, n_ratings) if len(el.text)>0] # Reviews count\n",
    "        except:\n",
    "            rev_vals = [None]*5\n",
    "        # Filling dictionary\n",
    "        for k, v in zip(rev_names, rev_vals):\n",
    "            rest_data['Review_ratings'][k] = v \n",
    "\n",
    "            \n",
    "    @_verbose(message = 'collecting restaurant location data...')\n",
    "    def collect_location_data(self, rest_data):\n",
    "        # class\n",
    "        location_map = 'eCPON'\n",
    "        adres_district = 'brMTW'\n",
    "        try:\n",
    "            WebDriverWait(self.driver, timeout=2).until(lambda d: self.driver.find_elements(By.CLASS_NAME, location_map))\n",
    "            src = self.driver.find_elements(By.CLASS_NAME, location_map)[0].get_attribute('src')\n",
    "            rest_data['Latitude'], rest_data['Longitude'] = re.findall('\\d+.\\d+,\\d+.\\d+', src )[0].split(',')\n",
    "        except:\n",
    "            rest_data['Latitude'], rest_data['Longitude'] = (None, None)\n",
    "        try:\n",
    "            rest_data['Adres'] = self.driver.find_elements(By.CLASS_NAME, adres_district)[0].text\n",
    "        except:\n",
    "            rest_data['Adres'] = None\n",
    "        try:\n",
    "            rest_data['District'] = self.driver.find_elements(By.CLASS_NAME, adres_district)[1].text\n",
    "        except: \n",
    "            rest_data['District'] = None\n",
    "            \n",
    "    \n",
    "    @_verbose(message = 'collecting restaurant working hours...')\n",
    "    def collect_working_hours_data(self, rest_data):\n",
    "        # class\n",
    "        working_time_table = 'cSjwK'\n",
    "        working_time_data = 'ferBE'\n",
    "        rest_data['Open_hours'] = {}\n",
    "        rest_data['Close_hours'] = {}\n",
    "        days = ['Mon', 'Tue', 'Wed', 'Thu', 'Fri', 'Sat', 'Sun']\n",
    "        try:\n",
    "            # Open working time table\n",
    "            WebDriverWait(self.driver, timeout=5).until(lambda d: self.driver.find_element(By.CLASS_NAME, working_time_table))\n",
    "            self.driver.find_element(By.CLASS_NAME, working_time_table).click()\n",
    "            # Collecting data\n",
    "            \n",
    "            working_days, working_hours = (np.array([i.text.split('\\n') for i in self.driver.find_elements(By.CLASS_NAME, working_time_data)])).T.tolist()\n",
    "            # Filling dictionary\n",
    "            for i in days:\n",
    "                if i in working_days:\n",
    "                    opened, closed = working_hours[working_days.index(i)].split(' - ')\n",
    "                    rest_data['Open_hours'][i] = opened\n",
    "                    rest_data['Close_hours'][i] = closed\n",
    "                else:\n",
    "                    rest_data['Open_hours'][i] = 'Closed'\n",
    "                    rest_data['Close_hours'][i] = 'Closed'\n",
    "            # Close working time table\n",
    "            self.driver.find_element(By.CLASS_NAME, working_time_table).click()\n",
    "        except:\n",
    "            for i in days:\n",
    "                rest_data['Open_hours'][i] = None\n",
    "                rest_data['Close_hours'][i] = None\n",
    "    \n",
    "    \n",
    "    @_verbose(message = 'collecting restaurant details...')\n",
    "    def collect_details(self, rest_data):\n",
    "        # class\n",
    "        all_details = 'ZlyLX'\n",
    "        details_names = 'dMshX'\n",
    "        details_info = 'cfvAV'\n",
    "        # Open all the details\n",
    "        try:\n",
    "            WebDriverWait(self.driver, timeout=5).until(lambda d: self.driver.find_element(By.CLASS_NAME, all_details))\n",
    "            self.driver.find_element(By.CLASS_NAME, all_details).click()\n",
    "        except: \n",
    "            pass\n",
    "        rest_data['Details'] = {}\n",
    "        details_titles = ['Price_range', 'Cuisines', 'Special_diets', 'About', 'Meals', 'Features']\n",
    "        # Setting all details to None\n",
    "        for k in details_titles:\n",
    "            rest_data['Details'][k] = None\n",
    "        try:\n",
    "            keys = [i.text for i in self.driver.find_elements(By.CLASS_NAME, details_names)] # Collected details names\n",
    "            keys = [i[0]+str.lower(i[1:].replace(' ', '_')) for i in keys]\n",
    "            values = [i.text for i in self.driver.find_elements(By.CLASS_NAME, details_info)] # Collected details info\n",
    "            for k, v in zip(keys, values):\n",
    "                rest_data['Details'][k] = v\n",
    "        except:\n",
    "            pass\n",
    "        \n",
    "    \n",
    "    def get_hrefs(self, n_pages):\n",
    "        self.start_driver()\n",
    "        self.open_tripadvisor()\n",
    "        self.accept_cookies()\n",
    "        self.search_the_city(self.city)\n",
    "        self.filter_restaurants()\n",
    "        time.sleep(1)\n",
    "        # self.clear_filters()\n",
    "        self.collect_hrefs(n_pages)\n",
    "        self.driver.close()\n",
    "        clear_output()\n",
    "        print ('Done')\n",
    "        \n",
    "        \n",
    "    def get_restaurants_data(self):\n",
    "        self.start_driver()\n",
    "        assert len(self.restaurants_hrefs) !=0, \"Can't find links to restaurants pages. Try get_hrefs(n_pages) before.\"\n",
    "        for num, rest_href in enumerate(self.restaurants_hrefs):\n",
    "            \n",
    "            self.driver.execute_script(f\"window.open('{rest_href}');\")\n",
    "            time.sleep(1)\n",
    "            self.driver.switch_to.window(self.driver.window_handles[-1])\n",
    "            \n",
    "            rest_data = {}\n",
    "            self.collect_name(rest_data)\n",
    "            self.collect_reviews_count(rest_data)\n",
    "            self.collect_location_data(rest_data)\n",
    "            self.collect_working_hours_data(rest_data)\n",
    "            self.collect_details(rest_data)\n",
    "        \n",
    "            print (f'Scrapped {num} from {len(self.restaurants_hrefs)} restauratns pages')\n",
    "            clear_output(wait=True)\n",
    "            self.restaurants_data.append(rest_data)\n",
    "            self.driver.close()\n",
    "            # switching to window with list of restaurants\n",
    "            self.driver.switch_to.window(self.driver.window_handles[0])\n",
    "        self.driver.close()\n",
    "        clear_output()\n",
    "        print ('Done')\n",
    "        \n",
    "        \n",
    "    @_verbose('saving restaurants data...')        \n",
    "    def save_collected_data(self, folder=\"\"):\n",
    "        with open(f'{folder}restaurants_data_{self.city}.json', 'w') as outfile:\n",
    "            json.dump(self.restaurants_data, outfile)\n",
    "        clear_output()\n",
    "        print ('Done')\n",
    "            \n",
    "            \n",
    "    @_verbose('saving restaurants links...')        \n",
    "    def save_collected_hrefs(self, folder=\"\"):\n",
    "        with open(f'{folder}restaurants_hrefs_{self.city}.json', 'w') as outfile:\n",
    "            json.dump(self.restaurants_hrefs, outfile)\n",
    "        clear_output()\n",
    "        print ('Done')\n",
    "    \n",
    "    \n",
    "    @_verbose('loading restaurants hrefs...')\n",
    "    def load_collected_hrefs(self, folder=\"\"):\n",
    "        with open(f'{folder}restaurants_hrefs_{self.city}.json') as inputfile:\n",
    "            self.restaurants_hrefs = json.load(inputfile)\n",
    "        clear_output()\n",
    "        print ('Done')\n",
    "    \n",
    "    \n",
    "    @_verbose('loading restaurants data...')\n",
    "    def load_collected_data(self, folder=\"\"):\n",
    "        with open(f'{folder}restaurants_data_{self.city}.json') as inputfile:\n",
    "            self.restaurants_data = json.load(inputfile)\n",
    "        clear_output()\n",
    "        print ('Done')"
   ]
  },
  {
   "cell_type": "markdown",
   "metadata": {},
   "source": [
    "Algorithm to refactor. Selenium works to slow. Using async with bs4 is more efficient"
   ]
  },
  {
   "cell_type": "code",
   "execution_count": 39,
   "metadata": {},
   "outputs": [],
   "source": [
    "Krakow = TripAdvisorScrapper('Krakow', show=True)\n",
    "# try:\n",
    "#     Krakow.load_collected_hrefs()\n",
    "# except:\n",
    "#     Krakow.get_hrefs(1)\n",
    "#     Krakow.save_collected_hrefs()\n",
    "# Krakow.load_collected_data()\n",
    "# Krakow.save_collected_data('data/')\n",
    "# Krakow.save_collected_hrefs('data/')"
   ]
  },
  {
   "cell_type": "code",
   "execution_count": 41,
   "metadata": {},
   "outputs": [
    {
     "name": "stdout",
     "output_type": "stream",
     "text": [
      "Done\n"
     ]
    }
   ],
   "source": [
    "n_pages = 1\n",
    "Krakow.get_hrefs(n_pages)"
   ]
  },
  {
   "cell_type": "code",
   "execution_count": 42,
   "metadata": {},
   "outputs": [
    {
     "data": {
      "text/plain": [
       "[\"https://www.tripadvisor.com/'/Restaurant_Review-g274772-d1820442-Reviews-Hard_Rock_Cafe-Krakow_Lesser_Poland_Province_Southern_Poland.html'\",\n",
       " \"https://www.tripadvisor.com/'/Restaurant_Review-g274772-d1749958-Reviews-Restauracja_Starka-Krakow_Lesser_Poland_Province_Southern_Poland.html'\",\n",
       " \"https://www.tripadvisor.com/'/Restaurant_Review-g274772-d5953938-Reviews-Czarna_Kaczka_The_Black_Duck-Krakow_Lesser_Poland_Province_Southern_Poland.html'\"]"
      ]
     },
     "execution_count": 42,
     "metadata": {},
     "output_type": "execute_result"
    }
   ],
   "source": [
    "Krakow.restaurants_hrefs[0:3]"
   ]
  },
  {
   "cell_type": "code",
   "execution_count": 43,
   "metadata": {},
   "outputs": [
    {
     "data": {
      "text/plain": [
       "30"
      ]
     },
     "execution_count": 43,
     "metadata": {},
     "output_type": "execute_result"
    }
   ],
   "source": [
    "len(Krakow.restaurants_hrefs)"
   ]
  },
  {
   "cell_type": "code",
   "execution_count": 55,
   "metadata": {},
   "outputs": [
    {
     "name": "stderr",
     "output_type": "stream",
     "text": [
      "/tmp/ipykernel_3578/3060629359.py:40: DeprecationWarning: find_element_by_* commands are deprecated. Please use find_element() instead\n",
      "  WebDriverWait(self.driver, timeout=10).until(lambda d: d.find_element_by_id(button_accept))\n"
     ]
    },
    {
     "ename": "TimeoutException",
     "evalue": "Message: \nStacktrace:\n#0 0x5577d2bfdee3 <unknown>\n#1 0x5577d26cb608 <unknown>\n#2 0x5577d2701aa1 <unknown>\n#3 0x5577d2701c61 <unknown>\n#4 0x5577d2734714 <unknown>\n#5 0x5577d271f29d <unknown>\n#6 0x5577d27323bc <unknown>\n#7 0x5577d271f163 <unknown>\n#8 0x5577d26f4bfc <unknown>\n#9 0x5577d26f5c05 <unknown>\n#10 0x5577d2c2fbaa <unknown>\n#11 0x5577d2c45651 <unknown>\n#12 0x5577d2c30b05 <unknown>\n#13 0x5577d2c46a68 <unknown>\n#14 0x5577d2c2505f <unknown>\n#15 0x5577d2c61818 <unknown>\n#16 0x5577d2c61998 <unknown>\n#17 0x5577d2c7ceed <unknown>\n#18 0x7f156f742609 <unknown>\n",
     "output_type": "error",
     "traceback": [
      "\u001b[0;31m---------------------------------------------------------------------------\u001b[0m",
      "\u001b[0;31mTimeoutException\u001b[0m                          Traceback (most recent call last)",
      "\u001b[0;32m/tmp/ipykernel_3578/2751062577.py\u001b[0m in \u001b[0;36m<module>\u001b[0;34m\u001b[0m\n\u001b[1;32m      4\u001b[0m \u001b[0mKrakow\u001b[0m\u001b[0;34m.\u001b[0m\u001b[0mdriver\u001b[0m\u001b[0;34m.\u001b[0m\u001b[0mexecute_script\u001b[0m\u001b[0;34m(\u001b[0m\u001b[0;34mf'window.open(\"{rest_href}\");'\u001b[0m\u001b[0;34m)\u001b[0m\u001b[0;34m\u001b[0m\u001b[0;34m\u001b[0m\u001b[0m\n\u001b[1;32m      5\u001b[0m \u001b[0mtime\u001b[0m\u001b[0;34m.\u001b[0m\u001b[0msleep\u001b[0m\u001b[0;34m(\u001b[0m\u001b[0;36m5\u001b[0m\u001b[0;34m)\u001b[0m\u001b[0;34m\u001b[0m\u001b[0;34m\u001b[0m\u001b[0m\n\u001b[0;32m----> 6\u001b[0;31m \u001b[0mKrakow\u001b[0m\u001b[0;34m.\u001b[0m\u001b[0maccept_cookies\u001b[0m\u001b[0;34m(\u001b[0m\u001b[0;34m)\u001b[0m\u001b[0;34m\u001b[0m\u001b[0;34m\u001b[0m\u001b[0m\n\u001b[0m\u001b[1;32m      7\u001b[0m \u001b[0mKrakow\u001b[0m\u001b[0;34m.\u001b[0m\u001b[0mdriver\u001b[0m\u001b[0;34m.\u001b[0m\u001b[0mswitch_to\u001b[0m\u001b[0;34m.\u001b[0m\u001b[0mwindow\u001b[0m\u001b[0;34m(\u001b[0m\u001b[0mKrakow\u001b[0m\u001b[0;34m.\u001b[0m\u001b[0mdriver\u001b[0m\u001b[0;34m.\u001b[0m\u001b[0mwindow_handles\u001b[0m\u001b[0;34m[\u001b[0m\u001b[0;34m-\u001b[0m\u001b[0;36m1\u001b[0m\u001b[0;34m]\u001b[0m\u001b[0;34m)\u001b[0m\u001b[0;34m\u001b[0m\u001b[0;34m\u001b[0m\u001b[0m\n\u001b[1;32m      8\u001b[0m \u001b[0;34m\u001b[0m\u001b[0m\n",
      "\u001b[0;32m/tmp/ipykernel_3578/3060629359.py\u001b[0m in \u001b[0;36mwrapper\u001b[0;34m(*args, **kwargs)\u001b[0m\n\u001b[1;32m     18\u001b[0m                 \u001b[0mprint\u001b[0m\u001b[0;34m(\u001b[0m\u001b[0mmessage\u001b[0m\u001b[0;34m)\u001b[0m\u001b[0;34m\u001b[0m\u001b[0;34m\u001b[0m\u001b[0m\n\u001b[1;32m     19\u001b[0m                 \u001b[0mclear_output\u001b[0m\u001b[0;34m(\u001b[0m\u001b[0mwait\u001b[0m\u001b[0;34m=\u001b[0m\u001b[0;32mTrue\u001b[0m\u001b[0;34m)\u001b[0m\u001b[0;34m\u001b[0m\u001b[0;34m\u001b[0m\u001b[0m\n\u001b[0;32m---> 20\u001b[0;31m                 \u001b[0;32mreturn\u001b[0m \u001b[0mfunc\u001b[0m\u001b[0;34m(\u001b[0m\u001b[0;34m*\u001b[0m\u001b[0margs\u001b[0m\u001b[0;34m,\u001b[0m \u001b[0;34m**\u001b[0m\u001b[0mkwargs\u001b[0m\u001b[0;34m)\u001b[0m\u001b[0;34m\u001b[0m\u001b[0;34m\u001b[0m\u001b[0m\n\u001b[0m\u001b[1;32m     21\u001b[0m             \u001b[0;32mreturn\u001b[0m \u001b[0mwrapper\u001b[0m\u001b[0;34m\u001b[0m\u001b[0;34m\u001b[0m\u001b[0m\n\u001b[1;32m     22\u001b[0m         \u001b[0;32mreturn\u001b[0m \u001b[0mdecorator\u001b[0m\u001b[0;34m\u001b[0m\u001b[0;34m\u001b[0m\u001b[0m\n",
      "\u001b[0;32m/tmp/ipykernel_3578/3060629359.py\u001b[0m in \u001b[0;36maccept_cookies\u001b[0;34m(self)\u001b[0m\n\u001b[1;32m     38\u001b[0m         \u001b[0;31m# id\u001b[0m\u001b[0;34m\u001b[0m\u001b[0;34m\u001b[0m\u001b[0;34m\u001b[0m\u001b[0m\n\u001b[1;32m     39\u001b[0m         \u001b[0mbutton_accept\u001b[0m \u001b[0;34m=\u001b[0m \u001b[0;34m'onetrust-accept-btn-handler'\u001b[0m\u001b[0;34m\u001b[0m\u001b[0;34m\u001b[0m\u001b[0m\n\u001b[0;32m---> 40\u001b[0;31m         \u001b[0mWebDriverWait\u001b[0m\u001b[0;34m(\u001b[0m\u001b[0mself\u001b[0m\u001b[0;34m.\u001b[0m\u001b[0mdriver\u001b[0m\u001b[0;34m,\u001b[0m \u001b[0mtimeout\u001b[0m\u001b[0;34m=\u001b[0m\u001b[0;36m10\u001b[0m\u001b[0;34m)\u001b[0m\u001b[0;34m.\u001b[0m\u001b[0muntil\u001b[0m\u001b[0;34m(\u001b[0m\u001b[0;32mlambda\u001b[0m \u001b[0md\u001b[0m\u001b[0;34m:\u001b[0m \u001b[0md\u001b[0m\u001b[0;34m.\u001b[0m\u001b[0mfind_element_by_id\u001b[0m\u001b[0;34m(\u001b[0m\u001b[0mbutton_accept\u001b[0m\u001b[0;34m)\u001b[0m\u001b[0;34m)\u001b[0m\u001b[0;34m\u001b[0m\u001b[0;34m\u001b[0m\u001b[0m\n\u001b[0m\u001b[1;32m     41\u001b[0m         \u001b[0mself\u001b[0m\u001b[0;34m.\u001b[0m\u001b[0mdriver\u001b[0m\u001b[0;34m.\u001b[0m\u001b[0mfind_element_by_id\u001b[0m\u001b[0;34m(\u001b[0m\u001b[0mbutton_accept\u001b[0m\u001b[0;34m)\u001b[0m\u001b[0;34m.\u001b[0m\u001b[0mclick\u001b[0m\u001b[0;34m(\u001b[0m\u001b[0;34m)\u001b[0m\u001b[0;34m\u001b[0m\u001b[0;34m\u001b[0m\u001b[0m\n\u001b[1;32m     42\u001b[0m \u001b[0;34m\u001b[0m\u001b[0m\n",
      "\u001b[0;32m/usr/local/lib/python3.8/dist-packages/selenium/webdriver/support/wait.py\u001b[0m in \u001b[0;36muntil\u001b[0;34m(self, method, message)\u001b[0m\n\u001b[1;32m     87\u001b[0m             \u001b[0;32mif\u001b[0m \u001b[0mtime\u001b[0m\u001b[0;34m.\u001b[0m\u001b[0mtime\u001b[0m\u001b[0;34m(\u001b[0m\u001b[0;34m)\u001b[0m \u001b[0;34m>\u001b[0m \u001b[0mend_time\u001b[0m\u001b[0;34m:\u001b[0m\u001b[0;34m\u001b[0m\u001b[0;34m\u001b[0m\u001b[0m\n\u001b[1;32m     88\u001b[0m                 \u001b[0;32mbreak\u001b[0m\u001b[0;34m\u001b[0m\u001b[0;34m\u001b[0m\u001b[0m\n\u001b[0;32m---> 89\u001b[0;31m         \u001b[0;32mraise\u001b[0m \u001b[0mTimeoutException\u001b[0m\u001b[0;34m(\u001b[0m\u001b[0mmessage\u001b[0m\u001b[0;34m,\u001b[0m \u001b[0mscreen\u001b[0m\u001b[0;34m,\u001b[0m \u001b[0mstacktrace\u001b[0m\u001b[0;34m)\u001b[0m\u001b[0;34m\u001b[0m\u001b[0;34m\u001b[0m\u001b[0m\n\u001b[0m\u001b[1;32m     90\u001b[0m \u001b[0;34m\u001b[0m\u001b[0m\n\u001b[1;32m     91\u001b[0m     \u001b[0;32mdef\u001b[0m \u001b[0muntil_not\u001b[0m\u001b[0;34m(\u001b[0m\u001b[0mself\u001b[0m\u001b[0;34m,\u001b[0m \u001b[0mmethod\u001b[0m\u001b[0;34m,\u001b[0m \u001b[0mmessage\u001b[0m\u001b[0;34m=\u001b[0m\u001b[0;34m''\u001b[0m\u001b[0;34m)\u001b[0m\u001b[0;34m:\u001b[0m\u001b[0;34m\u001b[0m\u001b[0;34m\u001b[0m\u001b[0m\n",
      "\u001b[0;31mTimeoutException\u001b[0m: Message: \nStacktrace:\n#0 0x5577d2bfdee3 <unknown>\n#1 0x5577d26cb608 <unknown>\n#2 0x5577d2701aa1 <unknown>\n#3 0x5577d2701c61 <unknown>\n#4 0x5577d2734714 <unknown>\n#5 0x5577d271f29d <unknown>\n#6 0x5577d27323bc <unknown>\n#7 0x5577d271f163 <unknown>\n#8 0x5577d26f4bfc <unknown>\n#9 0x5577d26f5c05 <unknown>\n#10 0x5577d2c2fbaa <unknown>\n#11 0x5577d2c45651 <unknown>\n#12 0x5577d2c30b05 <unknown>\n#13 0x5577d2c46a68 <unknown>\n#14 0x5577d2c2505f <unknown>\n#15 0x5577d2c61818 <unknown>\n#16 0x5577d2c61998 <unknown>\n#17 0x5577d2c7ceed <unknown>\n#18 0x7f156f742609 <unknown>\n"
     ]
    }
   ],
   "source": [
    "\n",
    "Krakow.start_driver()\n",
    "rest_href = Krakow.restaurants_hrefs[0]\n",
    "\n",
    "Krakow.driver.execute_script(f'window.open(\"{rest_href}\");')\n",
    "time.sleep(5)\n",
    "Krakow.accept_cookies()\n",
    "Krakow.driver.switch_to.window(Krakow.driver.window_handles[-1])\n",
    "\n",
    "rest_data = {}\n",
    "Krakow.collect_name(rest_data)\n",
    "Krakow.collect_reviews_count(rest_data)\n",
    "Krakow.collect_location_data(rest_data)\n",
    "Krakow.collect_working_hours_data(rest_data)\n",
    "Krakow.collect_details(rest_data)"
   ]
  },
  {
   "cell_type": "code",
   "execution_count": 12,
   "metadata": {},
   "outputs": [],
   "source": [
    "Krakow.driver.execute_script(f'window.open(\"{rest_href}\");')"
   ]
  },
  {
   "cell_type": "code",
   "execution_count": 53,
   "metadata": {},
   "outputs": [
    {
     "data": {
      "text/plain": [
       "{'Name': 'Hard Rock Cafe',\n",
       " 'N_reviews': '4',\n",
       " 'Review_ratings': {'Excellent': '1,779',\n",
       "  'Very good': '1,276',\n",
       "  'Average': '709',\n",
       "  'Poor': '255',\n",
       "  'Terrible': '164'},\n",
       " 'Latitude': '50.061474',\n",
       " 'Longitude': '19.938503',\n",
       " 'Adres': 'Main Market / Mariacki Square 9, Krakow 31-042 Poland',\n",
       " 'District': \"Stare Miasto\\n0.0 miles from Krakow's Rynek Glowny Central Square\",\n",
       " 'Open_hours': {'Mon': None,\n",
       "  'Tue': None,\n",
       "  'Wed': None,\n",
       "  'Thu': None,\n",
       "  'Fri': None,\n",
       "  'Sat': None,\n",
       "  'Sun': None},\n",
       " 'Close_hours': {'Mon': None,\n",
       "  'Tue': None,\n",
       "  'Wed': None,\n",
       "  'Thu': None,\n",
       "  'Fri': None,\n",
       "  'Sat': None,\n",
       "  'Sun': None},\n",
       " 'Details': {'Price_range': 'PLN 14 - PLN 89',\n",
       "  'Cuisines': 'American, Bar',\n",
       "  'Special_diets': 'Vegetarian Friendly, Vegan Options, Gluten Free Options',\n",
       "  'About': 'Hard Rock Cafe is a global phenomenon with 185 cafes that are visited by nearly 80 million guests each year. The first Hard Rock Cafe opened on June 14, 1971, in London, England, and from there the brand has expanded to major cities and exotic locations around the world.',\n",
       "  'Meals': 'Breakfast, Lunch, Dinner, Late Night, Drinks',\n",
       "  'Features': 'Wheelchair Accessible, Reservations, Outdoor Seating, Buffet, Seating, Television, Highchairs Available, Serves Alcohol, Full Bar, Wine and Beer, Accepts American Express, Accepts Mastercard, Accepts Visa, Cash Only, Free Wifi, Accepts Credit Cards, Table Service, Gift Cards Available'}}"
      ]
     },
     "execution_count": 53,
     "metadata": {},
     "output_type": "execute_result"
    }
   ],
   "source": [
    "rest_data"
   ]
  },
  {
   "cell_type": "code",
   "execution_count": 25,
   "metadata": {},
   "outputs": [
    {
     "data": {
      "text/plain": [
       "['Main Market / Mariacki Square 9, Krakow 31-042 Poland',\n",
       " \"Stare Miasto\\n0.0 miles from Krakow's Rynek Glowny Central Square\",\n",
       " 'Website',\n",
       " 'Email',\n",
       " 'Call']"
      ]
     },
     "execution_count": 25,
     "metadata": {},
     "output_type": "execute_result"
    }
   ],
   "source": [
    "[i.text for i in Krakow.driver.find_elements(By.CLASS_NAME, 'brMTW')]"
   ]
  },
  {
   "cell_type": "code",
   "execution_count": 50,
   "metadata": {},
   "outputs": [
    {
     "name": "stdout",
     "output_type": "stream",
     "text": [
      "collecting restaurant working hours...\n"
     ]
    }
   ],
   "source": [
    "Krakow.collect_working_hours_data(rest_data)"
   ]
  },
  {
   "cell_type": "code",
   "execution_count": 46,
   "metadata": {},
   "outputs": [
    {
     "data": {
      "text/plain": [
       "['PRICE RANGE',\n",
       " 'CUISINES',\n",
       " 'SPECIAL DIETS',\n",
       " 'ABOUT',\n",
       " 'PRICE RANGE',\n",
       " 'CUISINES',\n",
       " 'SPECIAL DIETS',\n",
       " 'MEALS',\n",
       " 'FEATURES']"
      ]
     },
     "execution_count": 46,
     "metadata": {},
     "output_type": "execute_result"
    }
   ],
   "source": [
    "details_names = 'dMshX'\n",
    "details_info = 'cfvAV'\n",
    "[i.text for i in Krakow.driver.find_elements(By.CLASS_NAME, details_names)]"
   ]
  },
  {
   "cell_type": "code",
   "execution_count": 47,
   "metadata": {},
   "outputs": [
    {
     "data": {
      "text/plain": [
       "['PLN 14 - PLN 89',\n",
       " 'American, Bar',\n",
       " 'Vegetarian Friendly, Vegan Options, Gluten Free Options',\n",
       " 'Hard Rock Cafe is a global phenomenon with 185 cafes that are visited by nearly 80 million guests each year. The first Hard Rock Cafe opened on June 14, 1971, in London, England, and from there the brand has expanded to major cities and exotic locations around the world.',\n",
       " 'PLN 14 - PLN 89',\n",
       " 'American, Bar',\n",
       " 'Vegetarian Friendly, Vegan Options, Gluten Free Options',\n",
       " 'Breakfast, Lunch, Dinner, Late Night, Drinks',\n",
       " 'Wheelchair Accessible, Reservations, Outdoor Seating, Buffet, Seating, Television, Highchairs Available, Serves Alcohol, Full Bar, Wine and Beer, Accepts American Express, Accepts Mastercard, Accepts Visa, Cash Only, Free Wifi, Accepts Credit Cards, Table Service, Gift Cards Available']"
      ]
     },
     "execution_count": 47,
     "metadata": {},
     "output_type": "execute_result"
    }
   ],
   "source": [
    "[i.text for i in Krakow.driver.find_elements(By.CLASS_NAME, details_info)]"
   ]
  },
  {
   "cell_type": "code",
   "execution_count": null,
   "metadata": {},
   "outputs": [],
   "source": []
  }
 ],
 "metadata": {
  "kernelspec": {
   "display_name": "Python 3",
   "language": "python",
   "name": "python3"
  },
  "language_info": {
   "codemirror_mode": {
    "name": "ipython",
    "version": 3
   },
   "file_extension": ".py",
   "mimetype": "text/x-python",
   "name": "python",
   "nbconvert_exporter": "python",
   "pygments_lexer": "ipython3",
   "version": "3.8.10"
  }
 },
 "nbformat": 4,
 "nbformat_minor": 4
}
